{
 "cells": [
  {
   "cell_type": "code",
   "execution_count": 1,
   "metadata": {},
   "outputs": [],
   "source": [
    "import requests\n",
    "from bs4 import BeautifulSoup as bs\n",
    "from urllib.request import urlopen\n",
    "import os\n",
    "import cv2\n",
    "import random\n",
    "from PIL import Image"
   ]
  },
  {
   "cell_type": "code",
   "execution_count": 2,
   "metadata": {},
   "outputs": [],
   "source": [
    "#Save Directory\n",
    "querry=input().replace(\" \",\"\")\n",
    "save_dir='images/{}'.format(querry)\n",
    "if not os.path.exists(save_dir):\n",
    "    os.makedirs(save_dir)\n",
    "    "
   ]
  },
  {
   "cell_type": "code",
   "execution_count": 3,
   "metadata": {},
   "outputs": [],
   "source": [
    "\n",
    "# url=\"https://www.google.com/search?q={}&sxsrf=APwXEdejlp9E7WqnOtfUAeqVq7j5FKId4g:1683019846012&source=lnms&tbm=isch&sa=X&ved=2ahUKEwiN6cjAqdb-AhXm7TgGHdPdCZsQ_AUoAXoECAEQAw&biw=1536&bih=810&dpr=1.25\".format(querry)\n",
    "# url"
   ]
  },
  {
   "cell_type": "code",
   "execution_count": 4,
   "metadata": {},
   "outputs": [],
   "source": [
    "headers = {\"User-Agent\": \"Mozilla/5.0 (Windows NT 10.0; Win64; x64) AppleWebKit/537.36 (KHTML, like Gecko) Chrome/58.0.3029.110 Safari/537.36\"}"
   ]
  },
  {
   "cell_type": "code",
   "execution_count": 5,
   "metadata": {},
   "outputs": [],
   "source": [
    "response=requests.get(\"https://www.google.com/search?q={}&sxsrf=APwXEdejlp9E7WqnOtfUAeqVq7j5FKId4g:1683019846012&source=lnms&tbm=isch&sa=X&ved=2ahUKEwiN6cjAqdb-AhXm7TgGHdPdCZsQ_AUoAXoECAEQAw&biw=1536&bih=810&dpr=1.25\".format(querry))"
   ]
  },
  {
   "cell_type": "code",
   "execution_count": 6,
   "metadata": {},
   "outputs": [],
   "source": [
    "# response.content"
   ]
  },
  {
   "cell_type": "code",
   "execution_count": 7,
   "metadata": {},
   "outputs": [
    {
     "data": {
      "text/plain": [
       "[<img alt=\"\" class=\"yWs4tf\" src=\"https://encrypted-tbn0.gstatic.com/images?q=tbn:ANd9GcS-a8R34vIMrP_hPtqDmROo82WGU7-JkCdwW8tmR0ujzDdpZgKfjevdDxGZQTI&amp;s\"/>,\n",
       " <img alt=\"\" class=\"yWs4tf\" src=\"https://encrypted-tbn0.gstatic.com/images?q=tbn:ANd9GcRoLJV1sJkXX_t4nTf6Wgej9PE35hFNIQUWfu0NKwwa03MjJFe54ZNZf6zrjg&amp;s\"/>,\n",
       " <img alt=\"\" class=\"yWs4tf\" src=\"https://encrypted-tbn0.gstatic.com/images?q=tbn:ANd9GcTErLwtYTULUP7yMYOUNFYRTefu6DyLYW5xfu89NX-G1C7dkoSjA7qN6zYcOcw&amp;s\"/>,\n",
       " <img alt=\"\" class=\"yWs4tf\" src=\"https://encrypted-tbn0.gstatic.com/images?q=tbn:ANd9GcR2c4x__1qy_Is5VkBXsIZPpu7ATHwQ7qF-KhiiJQXgnnQDI9UxWcuqT6TIzpI&amp;s\"/>,\n",
       " <img alt=\"\" class=\"yWs4tf\" src=\"https://encrypted-tbn0.gstatic.com/images?q=tbn:ANd9GcSEy0tSGu6pjoPPNutydXvf-E4Lyz27kPg4IN4NQlqX8NYvdyzGGtwuvk8rUQ&amp;s\"/>,\n",
       " <img alt=\"\" class=\"yWs4tf\" src=\"https://encrypted-tbn0.gstatic.com/images?q=tbn:ANd9GcTN0ZBbltC785l1CLmXMb7O6cuYXhQT9_YVkFPE7v9uyI-GG7kdJYtxBiKk5xw&amp;s\"/>,\n",
       " <img alt=\"\" class=\"yWs4tf\" src=\"https://encrypted-tbn0.gstatic.com/images?q=tbn:ANd9GcS69fTglbLorL8EtXgIGw-HApjbX0XU8I4CjX2tVF3rxvpx9it81MGVCinhAz8&amp;s\"/>,\n",
       " <img alt=\"\" class=\"yWs4tf\" src=\"https://encrypted-tbn0.gstatic.com/images?q=tbn:ANd9GcTfe4QOdzyoZeR4EF2i1pdtWimHNVLrOfXkMo8QbNEGuvbf1zJAUIPyzAqdPyQ&amp;s\"/>,\n",
       " <img alt=\"\" class=\"yWs4tf\" src=\"https://encrypted-tbn0.gstatic.com/images?q=tbn:ANd9GcRn__c21rWKXXI_-uiop4cIiSOkhWFJCdzrjfrHHIMIHY7PE8-YIoBswm8W9Ps&amp;s\"/>,\n",
       " <img alt=\"\" class=\"yWs4tf\" src=\"https://encrypted-tbn0.gstatic.com/images?q=tbn:ANd9GcSHziYLEmQbrbUgwFOtA7aQtKi45Gh8FNYr_yEM5i_HE6WeYJbtEqbXuFkP4A&amp;s\"/>,\n",
       " <img alt=\"\" class=\"yWs4tf\" src=\"https://encrypted-tbn0.gstatic.com/images?q=tbn:ANd9GcRoAfdm_MlPMC3QFQmgKLmIEbdjGTwosbtsIpEU0PYKoYZtzK_kmOhj2ue8AMw&amp;s\"/>,\n",
       " <img alt=\"\" class=\"yWs4tf\" src=\"https://encrypted-tbn0.gstatic.com/images?q=tbn:ANd9GcRyxI3p21e4-pL1IO5dIFMve4Kk-YfFQzfdlZZFuJH6vKLKzBfxtldmYXn3AmA&amp;s\"/>,\n",
       " <img alt=\"\" class=\"yWs4tf\" src=\"https://encrypted-tbn0.gstatic.com/images?q=tbn:ANd9GcQBYFRa5B25HHJsHVFHhKr0G5DHPCHrTn6BblXSmbd5NlkqtYmx86o4WUuQDA&amp;s\"/>,\n",
       " <img alt=\"\" class=\"yWs4tf\" src=\"https://encrypted-tbn0.gstatic.com/images?q=tbn:ANd9GcTnqdaNj6kFqfoKOfcDcklVb0deUW2FH14p4o-sVR6X3YrHpr5Uyp30fDZxm68&amp;s\"/>,\n",
       " <img alt=\"\" class=\"yWs4tf\" src=\"https://encrypted-tbn0.gstatic.com/images?q=tbn:ANd9GcQY-YiUYOyGrIx5xecyG77GFfkwkevfJyg30uKiwyHLoXs2HvSSfeAUTUVosg&amp;s\"/>,\n",
       " <img alt=\"\" class=\"yWs4tf\" src=\"https://encrypted-tbn0.gstatic.com/images?q=tbn:ANd9GcS_11NXlUhadng45fsDyH0ltZxDtDmqxKpH5IsiU2iafGlU3j0d5w1w7ELANI0&amp;s\"/>,\n",
       " <img alt=\"\" class=\"yWs4tf\" src=\"https://encrypted-tbn0.gstatic.com/images?q=tbn:ANd9GcT-Xu_CaZsfhFPB6e8rlHuYC2kQieYCWEfCQiZtER-AYmyMK3HAZVzrvHNfuQ&amp;s\"/>,\n",
       " <img alt=\"\" class=\"yWs4tf\" src=\"https://encrypted-tbn0.gstatic.com/images?q=tbn:ANd9GcTGGmtJkgLfQ4ySmXq4zcI1C5nFyDt0i6njy89e9fq8vFmE9nHtFNzXdHQl6Q&amp;s\"/>,\n",
       " <img alt=\"\" class=\"yWs4tf\" src=\"https://encrypted-tbn0.gstatic.com/images?q=tbn:ANd9GcQtZ-L0vcE4zFXFoQnH1nrkrJrFfo0EVztY0PvzwKJJJGWdDbISRUwog3-TXrc&amp;s\"/>,\n",
       " <img alt=\"\" class=\"yWs4tf\" src=\"https://encrypted-tbn0.gstatic.com/images?q=tbn:ANd9GcS_0c3xCn6_qnqDuBWd8SkF-s2Dwe5agcoF9NuT56bOqoSVVOYDNd7dqHsXwKE&amp;s\"/>]"
      ]
     },
     "execution_count": 7,
     "metadata": {},
     "output_type": "execute_result"
    }
   ],
   "source": [
    "all_html=bs(response.content,\"html.parser\")\n",
    "all_imgs=all_html.find_all('img')[1:]\n",
    "all_imgs"
   ]
  },
  {
   "cell_type": "code",
   "execution_count": 8,
   "metadata": {},
   "outputs": [],
   "source": [
    "data={}\n",
    "for i in all_imgs:\n",
    "    img_url=i['src']\n",
    "    img_data=requests.get(img_url).content\n",
    "    # print(img_data)\n",
    "    with open(os.path.join(save_dir,f\"{querry}_{all_imgs.index(i)}.jpg\"),\"wb\") as f:\n",
    "        f.write(img_data)\n",
    "\n",
    "    data['{}'.format(f\"{querry}_{all_imgs.index(i)}.jpg\")]=img_data\n",
    "    \n"
   ]
  },
  {
   "cell_type": "code",
   "execution_count": 9,
   "metadata": {},
   "outputs": [
    {
     "name": "stdout",
     "output_type": "stream",
     "text": [
      "['LordHari_0.jpg', 'LordHari_1.jpg', 'LordHari_10.jpg', 'LordHari_11.jpg', 'LordHari_12.jpg', 'LordHari_13.jpg', 'LordHari_14.jpg', 'LordHari_15.jpg', 'LordHari_16.jpg', 'LordHari_17.jpg', 'LordHari_18.jpg', 'LordHari_19.jpg', 'LordHari_2.jpg', 'LordHari_3.jpg', 'LordHari_4.jpg', 'LordHari_5.jpg', 'LordHari_6.jpg', 'LordHari_7.jpg', 'LordHari_8.jpg', 'LordHari_9.jpg']\n",
      "['LordHari_9.jpg']\n"
     ]
    }
   ],
   "source": [
    "# all_imges=[]\n",
    "# for i in os.listdir(\"images/{}\".format(querry)):\n",
    "#     all_imges.append(i)\n",
    "\n",
    "# images=random.choice(all_imges)\n",
    "# images\n",
    "img_=os.listdir('images/{}/'.format(querry))\n",
    "# data['LordHari_15.jpg']\n",
    "print(img_)\n",
    "images=random.choices(img_)\n",
    "print((images))"
   ]
  },
  {
   "cell_type": "code",
   "execution_count": 10,
   "metadata": {},
   "outputs": [],
   "source": [
    "# for i in img_:\n",
    "#     i__=Image.open(f'images/LordHari/{i}')\n",
    "#     new_image=i__.resize((600,600))\n",
    "#     new_image.save(f'images/LordHari/{i}_resized.jpg')\n",
    "#     os.remove(f'images/LordHari/{i}')"
   ]
  },
  {
   "cell_type": "code",
   "execution_count": 11,
   "metadata": {},
   "outputs": [],
   "source": [
    "img=cv2.imread(f\"IMAGES/{querry}/{querry}_\"+str(random.randint(0,20))+\".jpg\")\n",
    "# img=cv2.imread(\"images/LordHari/LordHari_0_resized.jpg\")\n",
    "# bigger = cv2.resize(img, (1050, 1610),interpolation = cv2.INTER_LINEAR)\n",
    "# img=cv2.imread(bigger)\n",
    "while True:\n",
    "    cv2.imshow(f\"{querry}\",img)\n",
    "    key_pressed=cv2.waitKey(1) & 0xFF\n",
    "    if key_pressed ==ord('q'):\n",
    "        break\n",
    "cv2.destroyAllWindows()\n",
    "for i in img_:\n",
    "    os.remove(f'images/{querry}/{i}')\n",
    "os.rmdir(f'images/{querry}')\n",
    "os.rmdir('images')"
   ]
  }
 ],
 "metadata": {
  "kernelspec": {
   "display_name": "Python 3",
   "language": "python",
   "name": "python3"
  },
  "language_info": {
   "codemirror_mode": {
    "name": "ipython",
    "version": 3
   },
   "file_extension": ".py",
   "mimetype": "text/x-python",
   "name": "python",
   "nbconvert_exporter": "python",
   "pygments_lexer": "ipython3",
   "version": "3.11.3"
  },
  "orig_nbformat": 4
 },
 "nbformat": 4,
 "nbformat_minor": 2
}
